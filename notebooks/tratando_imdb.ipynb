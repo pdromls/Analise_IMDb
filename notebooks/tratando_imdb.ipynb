{
 "cells": [
  {
   "cell_type": "code",
   "execution_count": 5,
   "id": "972bc247",
   "metadata": {},
   "outputs": [
    {
     "data": {
      "text/html": [
       "<div>\n",
       "<style scoped>\n",
       "    .dataframe tbody tr th:only-of-type {\n",
       "        vertical-align: middle;\n",
       "    }\n",
       "\n",
       "    .dataframe tbody tr th {\n",
       "        vertical-align: top;\n",
       "    }\n",
       "\n",
       "    .dataframe thead th {\n",
       "        text-align: right;\n",
       "    }\n",
       "</style>\n",
       "<table border=\"1\" class=\"dataframe\">\n",
       "  <thead>\n",
       "    <tr style=\"text-align: right;\">\n",
       "      <th></th>\n",
       "      <th>Título</th>\n",
       "      <th>Ano</th>\n",
       "      <th>Nota</th>\n",
       "      <th>Sinopse</th>\n",
       "      <th>Diretor</th>\n",
       "      <th>Elenco Principal</th>\n",
       "    </tr>\n",
       "  </thead>\n",
       "  <tbody>\n",
       "    <tr>\n",
       "      <th>0</th>\n",
       "      <td>Um Sonho de Liberdade</td>\n",
       "      <td>1994</td>\n",
       "      <td>9.3</td>\n",
       "      <td>Dois homens presos se reúnem ao longo de vário...</td>\n",
       "      <td>Frank Darabont</td>\n",
       "      <td>Tim Robbins, Morgan Freeman, Bob Gunton</td>\n",
       "    </tr>\n",
       "    <tr>\n",
       "      <th>1</th>\n",
       "      <td>O Poderoso Chefão</td>\n",
       "      <td>1972</td>\n",
       "      <td>9.2</td>\n",
       "      <td>O patriarca idoso de uma dinastia do crime org...</td>\n",
       "      <td>Francis Ford Coppola</td>\n",
       "      <td>Marlon Brando, Al Pacino, James Caan</td>\n",
       "    </tr>\n",
       "    <tr>\n",
       "      <th>2</th>\n",
       "      <td>Batman: O Cavaleiro das Trevas</td>\n",
       "      <td>2008</td>\n",
       "      <td>9.1</td>\n",
       "      <td>Agora com a ajuda do tenente Jim Gordon e do p...</td>\n",
       "      <td>Christopher Nolan</td>\n",
       "      <td>Christian Bale, Heath Ledger, Aaron Eckhart</td>\n",
       "    </tr>\n",
       "    <tr>\n",
       "      <th>3</th>\n",
       "      <td>O Poderoso Chefão: Parte II</td>\n",
       "      <td>1974</td>\n",
       "      <td>9.0</td>\n",
       "      <td>O início da vida e da carreira de Vito Corleon...</td>\n",
       "      <td>Francis Ford Coppola</td>\n",
       "      <td>Al Pacino, Robert De Niro, Robert Duvall</td>\n",
       "    </tr>\n",
       "    <tr>\n",
       "      <th>4</th>\n",
       "      <td>12 Homens e uma Sentença</td>\n",
       "      <td>1957</td>\n",
       "      <td>9.0</td>\n",
       "      <td>O julgamento de um assassinato em Nova Iorque ...</td>\n",
       "      <td>Sidney Lumet</td>\n",
       "      <td>Henry Fonda, Lee J. Cobb, Martin Balsam</td>\n",
       "    </tr>\n",
       "  </tbody>\n",
       "</table>\n",
       "</div>"
      ],
      "text/plain": [
       "                           Título   Ano  Nota  \\\n",
       "0           Um Sonho de Liberdade  1994   9.3   \n",
       "1               O Poderoso Chefão  1972   9.2   \n",
       "2  Batman: O Cavaleiro das Trevas  2008   9.1   \n",
       "3     O Poderoso Chefão: Parte II  1974   9.0   \n",
       "4        12 Homens e uma Sentença  1957   9.0   \n",
       "\n",
       "                                             Sinopse               Diretor  \\\n",
       "0  Dois homens presos se reúnem ao longo de vário...        Frank Darabont   \n",
       "1  O patriarca idoso de uma dinastia do crime org...  Francis Ford Coppola   \n",
       "2  Agora com a ajuda do tenente Jim Gordon e do p...     Christopher Nolan   \n",
       "3  O início da vida e da carreira de Vito Corleon...  Francis Ford Coppola   \n",
       "4  O julgamento de um assassinato em Nova Iorque ...          Sidney Lumet   \n",
       "\n",
       "                              Elenco Principal  \n",
       "0      Tim Robbins, Morgan Freeman, Bob Gunton  \n",
       "1         Marlon Brando, Al Pacino, James Caan  \n",
       "2  Christian Bale, Heath Ledger, Aaron Eckhart  \n",
       "3     Al Pacino, Robert De Niro, Robert Duvall  \n",
       "4      Henry Fonda, Lee J. Cobb, Martin Balsam  "
      ]
     },
     "execution_count": 5,
     "metadata": {},
     "output_type": "execute_result"
    }
   ],
   "source": [
    "import pandas as pd\n",
    "import numpy as np\n",
    "\n",
    "pd.set_option('display.max_columns', None)\n",
    "pd.set_option('display.max_rows', None)\n",
    "\n",
    "ARQ = '../data/raw/imdb_top_250.csv'\n",
    "\n",
    "df_filmes = pd.read_csv(ARQ,\n",
    "                        sep = ';',\n",
    "                        decimal = ',',\n",
    "                        encoding = 'latin1'\n",
    ")\n",
    "\n",
    "df_filmes.head()\n"
   ]
  },
  {
   "cell_type": "code",
   "execution_count": 3,
   "id": "02badd64",
   "metadata": {},
   "outputs": [
    {
     "data": {
      "text/plain": [
       "(250, 6)"
      ]
     },
     "execution_count": 3,
     "metadata": {},
     "output_type": "execute_result"
    }
   ],
   "source": [
    "df_filmes.shape"
   ]
  },
  {
   "cell_type": "code",
   "execution_count": 4,
   "id": "220a605a",
   "metadata": {},
   "outputs": [
    {
     "name": "stdout",
     "output_type": "stream",
     "text": [
      "<class 'pandas.core.frame.DataFrame'>\n",
      "RangeIndex: 250 entries, 0 to 249\n",
      "Data columns (total 6 columns):\n",
      " #   Column            Non-Null Count  Dtype  \n",
      "---  ------            --------------  -----  \n",
      " 0   Título            250 non-null    object \n",
      " 1   Ano               250 non-null    int64  \n",
      " 2   Nota              250 non-null    float64\n",
      " 3   Sinopse           250 non-null    object \n",
      " 4   Diretor           250 non-null    object \n",
      " 5   Elenco Principal  250 non-null    object \n",
      "dtypes: float64(1), int64(1), object(4)\n",
      "memory usage: 11.8+ KB\n"
     ]
    }
   ],
   "source": [
    "df_filmes.info()"
   ]
  },
  {
   "cell_type": "code",
   "execution_count": null,
   "id": "ec166053",
   "metadata": {},
   "outputs": [
    {
     "name": "stdout",
     "output_type": "stream",
     "text": [
      "Colunas após normalização:\n",
      "['titulo', 'ano', 'nota', 'sinopse', 'diretor', 'elenco_principal']\n"
     ]
    }
   ],
   "source": [
    "# Normalizando nomes das colunas (acentos e espaços)\n",
    "def normalizar_colunas(df):\n",
    "    df.columns = df.columns.str.normalize('NFKD').str.encode('ascii', errors='ignore').str.decode('utf-8') # Normalize separa acento das letras, encode remove acento, decode volta a ser string\n",
    "    df.columns = df.columns.str.replace(' ', '_').str.lower() # Substitui espaços por _ e deixa tudo minúsculo\n",
    "    return df\n",
    "\n",
    "df_filmes = normalizar_colunas(df_filmes)\n",
    "print(\"Colunas após normalização:\")\n",
    "print(df_filmes.columns.tolist())"
   ]
  },
  {
   "cell_type": "code",
   "execution_count": null,
   "id": "be6530e2",
   "metadata": {},
   "outputs": [
    {
     "name": "stdout",
     "output_type": "stream",
     "text": [
      "\n",
      "Shape antes de remover duplicatas: (250, 6)\n",
      "Shape após remover duplicatas: (250, 6)\n"
     ]
    }
   ],
   "source": [
    "# Verificando e removendo duplicatas\n",
    "print(f\"\\nShape antes de remover duplicatas: {df_filmes.shape}\")\n",
    "df_filmes = df_filmes.drop_duplicates()\n",
    "print(f\"Shape após remover duplicatas: {df_filmes.shape}\")"
   ]
  },
  {
   "cell_type": "code",
   "execution_count": 9,
   "id": "e25dd888",
   "metadata": {},
   "outputs": [
    {
     "name": "stdout",
     "output_type": "stream",
     "text": [
      "\n",
      "Valores nulos por coluna:\n",
      "titulo              0\n",
      "ano                 0\n",
      "nota                0\n",
      "sinopse             0\n",
      "diretor             0\n",
      "elenco_principal    0\n",
      "dtype: int64\n"
     ]
    }
   ],
   "source": [
    "# Verifcando valores nulos\n",
    "print(\"\\nValores nulos por coluna:\")\n",
    "print(df_filmes.isnull().sum())"
   ]
  },
  {
   "cell_type": "code",
   "execution_count": null,
   "id": "8be299db",
   "metadata": {},
   "outputs": [],
   "source": [
    "# Lipando dados textuais\n",
    "def limpar_texto(coluna):\n",
    "    if coluna.dtype == 'object':\n",
    "        return coluna.str.strip().str.replace(r'\\s+', ' ', regex=True) # Remove possíveis espaços extras\n",
    "    return coluna\n",
    "\n",
    "df_filmes = df_filmes.apply(limpar_texto)"
   ]
  },
  {
   "cell_type": "code",
   "execution_count": 20,
   "id": "45c739a8",
   "metadata": {},
   "outputs": [],
   "source": [
    "# Normalizando nomes próprios (Diretor e Elenco)\n",
    "def normalizar_nomes_proprios(texto):\n",
    "    if pd.isna(texto):\n",
    "        return texto\n",
    "    \n",
    "    # Lista de conectores/preposições que devem ficar em minúsculas\n",
    "    conectores = {\"de\", \"da\", \"do\", \"dos\", \"das\", \"e\"}\n",
    "    \n",
    "    nomes = texto.split(\", \")\n",
    "    nomes_normalizados = []\n",
    "    \n",
    "    for nome in nomes:\n",
    "        palavras = nome.split(\" \")\n",
    "        palavras_normalizadas = []\n",
    "        for i, palavra in enumerate(palavras):\n",
    "            if palavra.lower() in conectores and i != 0:  \n",
    "                # Mantém conector em minúscula, exceto se for a 1ª palavra\n",
    "                palavras_normalizadas.append(palavra.lower())\n",
    "            else:\n",
    "                palavras_normalizadas.append(palavra.capitalize())\n",
    "        nomes_normalizados.append(\" \".join(palavras_normalizadas))\n",
    "    \n",
    "    return \", \".join(nomes_normalizados)\n",
    "\n",
    "# Aplicando\n",
    "df_filmes['diretor'] = df_filmes['diretor'].apply(normalizar_nomes_proprios)\n",
    "df_filmes['elenco_principal'] = df_filmes['elenco_principal'].apply(normalizar_nomes_proprios)\n"
   ]
  },
  {
   "cell_type": "code",
   "execution_count": 21,
   "id": "061f46a6",
   "metadata": {},
   "outputs": [
    {
     "name": "stdout",
     "output_type": "stream",
     "text": [
      "0        Tim Robbins, Morgan Freeman, Bob Gunton\n",
      "1           Marlon Brando, Al Pacino, James Caan\n",
      "2    Christian Bale, Heath Ledger, Aaron Eckhart\n",
      "3       Al Pacino, Robert de Niro, Robert Duvall\n",
      "4        Henry Fonda, Lee J. Cobb, Martin Balsam\n",
      "Name: elenco_principal, dtype: object\n"
     ]
    }
   ],
   "source": [
    "print(df_filmes['elenco_principal'].head())"
   ]
  },
  {
   "cell_type": "code",
   "execution_count": 11,
   "id": "f45fa66b",
   "metadata": {},
   "outputs": [
    {
     "name": "stdout",
     "output_type": "stream",
     "text": [
      "\n",
      "Range de notas: 8.0 - 9.3\n"
     ]
    }
   ],
   "source": [
    "print(f\"\\nRange de notas: {df_filmes['nota'].min()} - {df_filmes['nota'].max()}\")"
   ]
  },
  {
   "cell_type": "code",
   "execution_count": 23,
   "id": "7aa9c765",
   "metadata": {},
   "outputs": [
    {
     "name": "stdout",
     "output_type": "stream",
     "text": [
      "\n",
      "Base salva em: ../data/processed/imdb_top_250_limpo.csv\n"
     ]
    }
   ],
   "source": [
    "caminho_limpo = '../data/processed/imdb_top_250_limpo.csv'\n",
    "df_filmes.to_csv(caminho_limpo, index=False,\n",
    "                                  sep = ';',\n",
    "                                  decimal = ',',\n",
    "                                  encoding = 'latin1'\n",
    ")\n",
    "print(f\"\\nBase salva em: {caminho_limpo}\")"
   ]
  }
 ],
 "metadata": {
  "kernelspec": {
   "display_name": "venv (3.13.7)",
   "language": "python",
   "name": "python3"
  },
  "language_info": {
   "codemirror_mode": {
    "name": "ipython",
    "version": 3
   },
   "file_extension": ".py",
   "mimetype": "text/x-python",
   "name": "python",
   "nbconvert_exporter": "python",
   "pygments_lexer": "ipython3",
   "version": "3.13.7"
  }
 },
 "nbformat": 4,
 "nbformat_minor": 5
}
